{
 "cells": [
  {
   "cell_type": "code",
   "execution_count": null,
   "source": [
    "import geopandas as gpd"
   ],
   "outputs": [],
   "metadata": {}
  },
  {
   "cell_type": "code",
   "execution_count": null,
   "source": [
    "gdf = gpd.read_file('/mnt/c/Users/Travis/Desktop/resize_season_12_plot_boundaries.geojson')"
   ],
   "outputs": [],
   "metadata": {}
  },
  {
   "cell_type": "code",
   "execution_count": null,
   "source": [
    "gdf.head"
   ],
   "outputs": [],
   "metadata": {}
  },
  {
   "cell_type": "code",
   "execution_count": null,
   "source": [
    "\n",
    "\n",
    "scaled_df = gpd.GeoDataFrame(columns = ['fieldID', 'geometry'])\n",
    "\n",
    "for index, row in gdf.iterrows():\n",
    "\n",
    "    # print(row['geometry'])\n",
    "    try:\n",
    "        tl = row['geometry'][0]\n",
    "        \n",
    "        # # tr = row['geometry'][1]\n",
    "        # # br = row['geometry'][2]\n",
    "        # # bl = row['geometry'][3]\n",
    "        print(tl)\n",
    "\n",
    "        scaled = tl.scale(xfact = 1.2)\n",
    "        print('test', scaled)\n",
    "\n",
    "        # df = gpd.GeoDataFrame()\n",
    "        # df['fieldID'] = index\n",
    "        # df['geometry'] = scaled\n",
    "\n",
    "        # scaled_df = scaled_df.append(scaled_df)\n",
    "        # break\n",
    "\n",
    "        break\n",
    "\n",
    "        # print(tl, tr, br, bl)\n",
    "    except:\n",
    "        pass\n",
    "\n",
    "\n",
    "\n",
    "\n",
    "\n"
   ],
   "outputs": [],
   "metadata": {}
  },
  {
   "cell_type": "code",
   "execution_count": null,
   "source": [
    "g = gdf['geometry']\n",
    "\n",
    "scaled = g.scale(xfact=1.2)\n",
    "\n",
    "gdf['geometry'] = scaled\n",
    "\n",
    "gdf.to_file('scaled_season12_plot_boundaries.geojson', driver='GeoJSON')"
   ],
   "outputs": [],
   "metadata": {}
  },
  {
   "cell_type": "code",
   "execution_count": null,
   "source": [
    "print(g[10], scaled[10])\n"
   ],
   "outputs": [],
   "metadata": {}
  },
  {
   "cell_type": "code",
   "execution_count": null,
   "source": [
    "import geopandas as gpd\n",
    "scaled_gdf = gpd.read_file('./scaled_season12_plot_boundaries.geojson')"
   ],
   "outputs": [],
   "metadata": {}
  },
  {
   "cell_type": "code",
   "execution_count": null,
   "source": [
    "for index, row in scaled_gdf.iterrows():\n",
    "    try:\n",
    "        tl = row['geometry'][0]\n",
    "        \n",
    "        # # tr = row['geometry'][1]\n",
    "        # # br = row['geometry'][2]\n",
    "        # # bl = row['geometry'][3]\n",
    "        print(index, tl, '\\n')\n",
    "    except:\n",
    "        pass"
   ],
   "outputs": [],
   "metadata": {}
  },
  {
   "cell_type": "code",
   "execution_count": 11,
   "source": [
    "# somehow in labeling, there are features that dont exist, we we are gonig to get rid of them.\n",
    "scaled_gdf = gpd.read_file('./scaled_season12_plot_boundaries.geojson')\n"
   ],
   "outputs": [],
   "metadata": {}
  },
  {
   "cell_type": "code",
   "execution_count": 15,
   "source": [
    "print('before', len(scaled_gdf))\n",
    "for index, row in scaled_gdf.iterrows():\n",
    "    id = row['fieldID']\n",
    "    if len(id) < 4:\n",
    "        scaled_gdf.drop(index, axis = 0, inplace = True)\n",
    "\n",
    "\n",
    "print('after', len(scaled_gdf))"
   ],
   "outputs": [
    {
     "output_type": "stream",
     "name": "stdout",
     "text": [
      "before 1424\n",
      "after 1280\n"
     ]
    }
   ],
   "metadata": {}
  },
  {
   "cell_type": "code",
   "execution_count": 17,
   "source": [
    "scaled_gdf.to_file('scaled_named_cleaned_season12_plot_boundaries.geojson', driver='GeoJSON')"
   ],
   "outputs": [],
   "metadata": {}
  },
  {
   "cell_type": "code",
   "execution_count": null,
   "source": [],
   "outputs": [],
   "metadata": {}
  }
 ],
 "metadata": {
  "orig_nbformat": 4,
  "language_info": {
   "name": "python",
   "version": "3.8.5",
   "mimetype": "text/x-python",
   "codemirror_mode": {
    "name": "ipython",
    "version": 3
   },
   "pygments_lexer": "ipython3",
   "nbconvert_exporter": "python",
   "file_extension": ".py"
  },
  "kernelspec": {
   "name": "python3",
   "display_name": "Python 3.8.5 64-bit ('general': conda)"
  },
  "interpreter": {
   "hash": "66fd99cc653260adf426bf328db08d1b55b377c06d9b72100938088d40231a18"
  }
 },
 "nbformat": 4,
 "nbformat_minor": 2
}